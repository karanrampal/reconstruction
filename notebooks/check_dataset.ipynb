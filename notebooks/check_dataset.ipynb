{
 "cells": [
  {
   "cell_type": "code",
   "execution_count": null,
   "metadata": {},
   "outputs": [],
   "source": [
    "import glob\n",
    "import json\n",
    "\n",
    "import matplotlib.pyplot as plt\n",
    "import numpy as np\n",
    "import open3d as o3d\n",
    "from tqdm import tqdm\n",
    "\n",
    "import sys\n",
    "sys.path.insert(0, \"../src\")\n",
    "\n",
    "from utils.utils import read_json"
   ]
  },
  {
   "cell_type": "markdown",
   "metadata": {},
   "source": [
    "# Set variables"
   ]
  },
  {
   "cell_type": "code",
   "execution_count": null,
   "metadata": {},
   "outputs": [],
   "source": [
    "INP_DIR = \"../../datasets/caesar_pointclouds\"\n",
    "OUT_DIR = \"../output/dataset_20230309-103305/\"\n",
    "\n",
    "NUM_POINTS = 20000"
   ]
  },
  {
   "cell_type": "markdown",
   "metadata": {},
   "source": [
    "# Read input"
   ]
  },
  {
   "cell_type": "code",
   "execution_count": null,
   "metadata": {},
   "outputs": [],
   "source": [
    "in_file_list = glob.glob(INP_DIR + \"/**/*.ply\", recursive=True)\n",
    "len(in_file_list)"
   ]
  },
  {
   "cell_type": "code",
   "execution_count": null,
   "metadata": {},
   "outputs": [],
   "source": [
    "avatar = in_file_list[0]\n",
    "avatar"
   ]
  },
  {
   "cell_type": "code",
   "execution_count": null,
   "metadata": {},
   "outputs": [],
   "source": [
    "mesh = o3d.io.read_triangle_mesh(avatar)\n",
    "mesh.compute_vertex_normals()\n",
    "\n",
    "avatar_pcd = mesh.sample_points_poisson_disk(number_of_points=NUM_POINTS)"
   ]
  },
  {
   "cell_type": "markdown",
   "metadata": {},
   "source": [
    "# Sanity check"
   ]
  },
  {
   "cell_type": "code",
   "execution_count": null,
   "metadata": {},
   "outputs": [],
   "source": [
    "out_file_list = glob.glob(OUT_DIR + \"/**/*.png\", recursive=True)"
   ]
  },
  {
   "cell_type": "code",
   "execution_count": null,
   "metadata": {},
   "outputs": [],
   "source": [
    "im_path = out_file_list[12]\n",
    "im_path"
   ]
  },
  {
   "cell_type": "code",
   "execution_count": null,
   "metadata": {},
   "outputs": [],
   "source": [
    "img = o3d.io.read_image(im_path)\n",
    "\n",
    "print(np.asarray(img).min())\n",
    "print(np.asarray(img).max())\n",
    "print(np.asarray(img).dtype)"
   ]
  },
  {
   "cell_type": "code",
   "execution_count": null,
   "metadata": {},
   "outputs": [],
   "source": [
    "fig, axi = plt.subplots(1, 1, figsize=(15, 5))\n",
    "cb_ = axi.imshow(img, cmap=\"gray\")\n",
    "fig.colorbar(cb_, ax=axi)"
   ]
  },
  {
   "cell_type": "code",
   "execution_count": null,
   "metadata": {},
   "outputs": [],
   "source": [
    "json_files = glob.glob(OUT_DIR + \"/**/*.json\", recursive=True)\n",
    "\n",
    "intrinsic = o3d.camera.PinholeCameraIntrinsic(\n",
    "    **read_json(list(filter(lambda x: \"intrinsic\" in x, json_files))[0])\n",
    ")\n",
    "extrinsic = read_json(list(filter(lambda x: \"extrinsic\" in x, json_files))[0])[\"extrinsics\"]\n",
    "scale = read_json(list(filter(lambda x: \"scale\" in x, json_files))[0])[\"depth_scale\"]\n",
    "\n",
    "pcd = o3d.geometry.PointCloud.create_from_depth_image(\n",
    "    img,\n",
    "    #o3d.geometry.Image(a),\n",
    "    intrinsic,\n",
    "    extrinsic,\n",
    "    depth_scale=scale,\n",
    "    depth_trunc=4000.0\n",
    ")\n",
    "\n",
    "_, ind = pcd.remove_statistical_outlier(nb_neighbors=5, std_ratio=1.0)\n",
    "#_, ind = pcd.remove_radius_outlier(nb_points=35, radius=20.0)\n",
    "inlier_cloud = pcd.select_by_index(ind)\n",
    "\n",
    "o3d.visualization.draw_geometries([\n",
    "    pcd,\n",
    "    #inlier_cloud\n",
    "])"
   ]
  },
  {
   "cell_type": "code",
   "execution_count": null,
   "metadata": {},
   "outputs": [],
   "source": []
  }
 ],
 "metadata": {
  "kernelspec": {
   "display_name": "Python 3.8.13 ('cv3d-env')",
   "language": "python",
   "name": "python3"
  },
  "language_info": {
   "codemirror_mode": {
    "name": "ipython",
    "version": 3
   },
   "file_extension": ".py",
   "mimetype": "text/x-python",
   "name": "python",
   "nbconvert_exporter": "python",
   "pygments_lexer": "ipython3",
   "version": "3.8.13"
  },
  "orig_nbformat": 4,
  "vscode": {
   "interpreter": {
    "hash": "a2f71e6011faa0109c6544a926ac70c80d3ea1a0e18aed42a92f791a760d489a"
   }
  }
 },
 "nbformat": 4,
 "nbformat_minor": 2
}
