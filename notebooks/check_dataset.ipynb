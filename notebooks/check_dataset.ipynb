{
 "cells": [
  {
   "cell_type": "code",
   "execution_count": null,
   "metadata": {},
   "outputs": [],
   "source": [
    "import glob\n",
    "\n",
    "import matplotlib.pyplot as plt\n",
    "import numpy as np\n",
    "import open3d as o3d"
   ]
  },
  {
   "cell_type": "markdown",
   "metadata": {},
   "source": [
    "# Set variables"
   ]
  },
  {
   "cell_type": "code",
   "execution_count": null,
   "metadata": {},
   "outputs": [],
   "source": [
    "INP_DIR = \"../../datasets/AVATARS\"\n",
    "OUT_DIR = \"../output\"\n",
    "\n",
    "NUM_POINTS = 20000"
   ]
  },
  {
   "cell_type": "markdown",
   "metadata": {},
   "source": [
    "# Read input"
   ]
  },
  {
   "cell_type": "code",
   "execution_count": null,
   "metadata": {},
   "outputs": [],
   "source": [
    "in_file_list = glob.glob(INP_DIR + \"/**/*.obj\", recursive=True)"
   ]
  },
  {
   "cell_type": "code",
   "execution_count": null,
   "metadata": {},
   "outputs": [],
   "source": [
    "avatar = in_file_list[0]\n",
    "avatar"
   ]
  },
  {
   "cell_type": "code",
   "execution_count": null,
   "metadata": {},
   "outputs": [],
   "source": [
    "mesh = o3d.io.read_triangle_mesh(avatar)\n",
    "mesh.compute_vertex_normals()\n",
    "\n",
    "avatar_pcd = mesh.sample_points_uniformly(number_of_points=NUM_POINTS)"
   ]
  },
  {
   "cell_type": "code",
   "execution_count": null,
   "metadata": {},
   "outputs": [],
   "source": [
    "o3d.visualization.draw_geometries([avatar_pcd])"
   ]
  },
  {
   "cell_type": "markdown",
   "metadata": {},
   "source": [
    "# Sanity check"
   ]
  },
  {
   "cell_type": "code",
   "execution_count": null,
   "metadata": {},
   "outputs": [],
   "source": [
    "out_file_list = glob.glob(OUT_DIR + \"/**/*.png\", recursive=True)"
   ]
  },
  {
   "cell_type": "code",
   "execution_count": null,
   "metadata": {},
   "outputs": [],
   "source": [
    "im_path = out_file_list[0]\n",
    "im_path"
   ]
  },
  {
   "cell_type": "code",
   "execution_count": null,
   "metadata": {},
   "outputs": [],
   "source": [
    "img = o3d.io.read_image(im_path)\n",
    "\n",
    "print(np.asarray(img).min())\n",
    "print(np.asarray(img).max())"
   ]
  },
  {
   "cell_type": "code",
   "execution_count": null,
   "metadata": {},
   "outputs": [],
   "source": [
    "fig, axi = plt.subplots(1, 1, figsize=(6, 3))\n",
    "cb_ = axi.imshow(img, cmap=\"RdBu\")\n",
    "fig.colorbar(cb_, ax=axi)"
   ]
  },
  {
   "cell_type": "code",
   "execution_count": null,
   "metadata": {},
   "outputs": [],
   "source": [
    "intrinsic = o3d.camera.PinholeCameraIntrinsic(\n",
    "    **{\n",
    "        \"height\": 720,\n",
    "        \"width\": 1280,\n",
    "        \"fx\": 623.5382907247958,\n",
    "        \"fy\": 623.5382907247958,\n",
    "        \"cx\": 639.5,\n",
    "        \"cy\": 359.5\n",
    "    }\n",
    ")\n",
    "extrinsic = np.asarray(\n",
    "    [[1.0, 0.0, 0.0, -0.0],\n",
    "     [-0.0, -1.0, -0.0, 0.0],\n",
    "     [-0.0, -0.0, -1.0, 0.0],\n",
    "     [0.0, 0.0, 0.0, 1.0]]\n",
    ")\n",
    "\n",
    "pcd = o3d.geometry.PointCloud.create_from_depth_image(\n",
    "    img,\n",
    "    intrinsic,\n",
    "    extrinsic,\n",
    ")"
   ]
  },
  {
   "cell_type": "code",
   "execution_count": null,
   "metadata": {},
   "outputs": [],
   "source": [
    "o3d.visualization.draw_geometries([pcd])"
   ]
  },
  {
   "cell_type": "code",
   "execution_count": null,
   "metadata": {},
   "outputs": [],
   "source": []
  }
 ],
 "metadata": {
  "kernelspec": {
   "display_name": "Python 3.8.13 ('cv3d-env')",
   "language": "python",
   "name": "python3"
  },
  "language_info": {
   "codemirror_mode": {
    "name": "ipython",
    "version": 3
   },
   "file_extension": ".py",
   "mimetype": "text/x-python",
   "name": "python",
   "nbconvert_exporter": "python",
   "pygments_lexer": "ipython3",
   "version": "3.8.13"
  },
  "orig_nbformat": 4,
  "vscode": {
   "interpreter": {
    "hash": "a2f71e6011faa0109c6544a926ac70c80d3ea1a0e18aed42a92f791a760d489a"
   }
  }
 },
 "nbformat": 4,
 "nbformat_minor": 2
}
