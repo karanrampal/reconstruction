{
 "cells": [
  {
   "cell_type": "code",
   "execution_count": null,
   "metadata": {},
   "outputs": [],
   "source": [
    "from glob import glob\n",
    "import math\n",
    "import os\n",
    "import sys\n",
    "sys.path.insert(0, \"../src\")\n",
    "\n",
    "import matplotlib.pyplot as plt\n",
    "import numpy as np\n",
    "from numpy.random import MT19937, RandomState, SeedSequence\n",
    "import pandas as pd\n",
    "from PIL import Image\n",
    "import torch\n",
    "from tqdm import tqdm\n",
    "\n",
    "from config_manager.manager import Params\n",
    "from data_loaders.dataloader import get_dataloaders\n",
    "from model.net import loss_fn, ReconstructionModel\n",
    "from trainers.train_engine import train_evaluate\n",
    "\n",
    "RNG = RandomState(MT19937(SeedSequence(123456789)))\n",
    "TRNG = torch.random.manual_seed(42)\n",
    "\n",
    "plt.style.use('dark_background')\n",
    "\n",
    "%load_ext tensorboard"
   ]
  },
  {
   "cell_type": "code",
   "execution_count": null,
   "metadata": {},
   "outputs": [],
   "source": [
    "param_dict = {\n",
    "    \"data_path\": \"../output/dataset_20221121-115643\",\n",
    "    \"save_path\": \"../output/experiment\",\n",
    "    \"tb_path\": \"../output/experiment/runs\",\n",
    "    \"split\": 300,\n",
    "    \"resize\": 256,\n",
    "    \"batch_size\": 128,\n",
    "    \"num_workers\": 1,\n",
    "    \"device\": torch.device(\"cuda:0\") if torch.cuda.is_available() else torch.device(\"cpu\"),\n",
    "    \"pin_memory\": torch.cuda.is_available(),\n",
    "    \"epochs\": 2,\n",
    "    \"learning_rate\": 0.001,\n",
    "    \"filters\": [32, 32, 64, 128, 128, 256],\n",
    "    \"kernels\": [5, 5, 5, 3, 3, 3],\n",
    "    \"embeddings\": 1024,\n",
    "    \"milestones\": [15, 30],\n",
    "    \"mse\": 1.0,\n",
    "    \"tvl\": 0.01,\n",
    "    \"style\": 1.0,\n",
    "    \"content\": 1.0,\n",
    "    \"style_nodes\": [\"encoder.0.2\", \"encoder.1.2\", \"encoder.2.2\"],\n",
    "    \"output_layer\": \"dconv2.1\",\n",
    "}\n",
    "\n",
    "params = Params(param_dict)\n",
    "print(params)"
   ]
  },
  {
   "cell_type": "markdown",
   "id": "d109cedb-d146-4743-84d0-824fc0e8a9eb",
   "metadata": {},
   "source": [
    "# Read data"
   ]
  },
  {
   "cell_type": "code",
   "execution_count": null,
   "metadata": {},
   "outputs": [],
   "source": [
    "def create_data_split(params: Params) -> None:\n",
    "    \"\"\"Split and save train and test set\n",
    "    Args:\n",
    "        params: Hyperparameters\n",
    "    \"\"\"\n",
    "    tmp = list(filter(lambda x: \"front\" in x, glob(params.data_path + \"/**/*.png\", recursive=True)))\n",
    "    avatars = [os.path.basename(x) for x in tmp]\n",
    "\n",
    "    ids = RNG.permutation(avatars)\n",
    "\n",
    "    train_list = ids[:params.split]\n",
    "    test_list = ids[params.split:]\n",
    "\n",
    "    df_train = pd.DataFrame(train_list)\n",
    "    df_train.to_csv(os.path.join(params.data_path, \"train.csv\"), header=False, index=False)\n",
    "    df_test = pd.DataFrame(test_list)\n",
    "    df_test.to_csv(os.path.join(params.data_path, \"test.csv\"), header=False, index=False)"
   ]
  },
  {
   "cell_type": "code",
   "execution_count": null,
   "metadata": {},
   "outputs": [],
   "source": [
    "if not os.path.exists(os.path.join(params.data_path, \"train.csv\")):\n",
    "    create_data_split(params)"
   ]
  },
  {
   "cell_type": "markdown",
   "id": "21b67ac8-29bc-4b5c-82c5-624575d63cf4",
   "metadata": {},
   "source": [
    "# Average image"
   ]
  },
  {
   "cell_type": "code",
   "execution_count": null,
   "metadata": {},
   "outputs": [],
   "source": [
    "def create_avg_img(params: Params) -> None:\n",
    "    \"\"\"Create average image from training data\n",
    "    Args:\n",
    "        params: yperparameters\n",
    "    Returns:\n",
    "        Front and back average image\n",
    "    \"\"\"\n",
    "    front = np.zeros((720, 1280))\n",
    "    back = np.zeros((720, 1280))\n",
    "    avatars = pd.read_csv(os.path.join(params.data_path, \"train.csv\"), header=None).to_numpy()\n",
    "    for avt in tqdm(avatars):\n",
    "        front += np.asarray(Image.open(os.path.join(params.data_path, \"front\", avt[0])))\n",
    "        back += np.asarray(Image.open(os.path.join(params.data_path, \"back\", avt[0])))\n",
    "    front /= len(avatars)\n",
    "    back /= len(avatars)\n",
    "\n",
    "    np.save(os.path.join(params.data_path, \"avg_front_image.npy\"), front)\n",
    "    np.save(os.path.join(params.data_path, \"avg_back_image.npy\"), back)\n",
    "\n",
    "    return front, back"
   ]
  },
  {
   "cell_type": "code",
   "execution_count": null,
   "id": "c7163b27-46d4-4518-b887-4594b5fa2418",
   "metadata": {},
   "outputs": [],
   "source": [
    "if not os.path.exists(os.path.join(params.data_path, \"avg_front_image.npy\")):\n",
    "    front, back = create_avg_img(params)\n",
    "else:\n",
    "    front = np.load(os.path.join(params.data_path, \"avg_front_image.npy\"))\n",
    "    back = np.load(os.path.join(params.data_path, \"avg_back_image.npy\"))"
   ]
  },
  {
   "cell_type": "code",
   "execution_count": null,
   "id": "bc04d957-68e0-4297-badd-2b8c63769d37",
   "metadata": {},
   "outputs": [],
   "source": [
    "print(\n",
    "    f\"Front mean: {front.mean():0.2f}, std: {front.std():.2f}\" \\\n",
    "    f\", min: {front.min():.2f}, max: {front.max():.2f}\"\n",
    ")\n",
    "print(\n",
    "    f\"Back mean: {back.mean():0.2f}, std: {back.std():.2f}\" \\\n",
    "    f\", min: {back.min():.2f}, max: {back.max():.2f}\"\n",
    ")"
   ]
  },
  {
   "cell_type": "code",
   "execution_count": null,
   "id": "110ed2c3-04d9-44db-93d0-bb18342a4796",
   "metadata": {},
   "outputs": [],
   "source": [
    "print(\n",
    "    f\"Front non zero height: {np.count_nonzero((front > 0.0).sum(1))}\" \\\n",
    "    f\", width: {np.count_nonzero((front > 0.0).sum(0))}\"\n",
    ")\n",
    "print(\n",
    "    f\"Back non zero height: {np.count_nonzero((back > 0.0).sum(1))}\" \\\n",
    "    f\", width: {np.count_nonzero((back > 0.0).sum(0))}\"\n",
    ")"
   ]
  },
  {
   "cell_type": "markdown",
   "id": "e744d718-a0b9-497c-b705-3d05209cf224",
   "metadata": {
    "tags": []
   },
   "source": [
    "# Data loaders"
   ]
  },
  {
   "cell_type": "code",
   "execution_count": null,
   "id": "2edfdce0-4ad0-4e3d-a84f-beaae7c5695f",
   "metadata": {},
   "outputs": [],
   "source": [
    "def visualize(outputs: np.ndarray) -> None:\n",
    "    \"\"\"Visuzlize results\n",
    "    Args:\n",
    "        outputs: Model predictions\n",
    "    \"\"\"\n",
    "    num, height, width = outputs.shape\n",
    "    nrow = math.ceil(num / 3)\n",
    "    fig, axi = plt.subplots(nrow, 3, figsize=(12, nrow * 3))\n",
    "    axi = axi.flatten()\n",
    "    for i, ax in enumerate(axi):\n",
    "        if i < num:\n",
    "            cb_ = ax.imshow(outputs[i], cmap=\"gray\")\n",
    "            fig.colorbar(cb_, ax=ax)\n",
    "        else:\n",
    "            ax.axis(\"off\")\n",
    "    fig.tight_layout()"
   ]
  },
  {
   "cell_type": "code",
   "execution_count": null,
   "metadata": {},
   "outputs": [],
   "source": [
    "dataloaders = get_dataloaders([\"train\", \"test\"], params)"
   ]
  },
  {
   "cell_type": "code",
   "execution_count": null,
   "id": "d647abc6-a97a-4d75-a576-51f05e43a3aa",
   "metadata": {},
   "outputs": [],
   "source": [
    "tmp_f, tmp_b, tmp_m = next(iter(dataloaders[\"train\"]))"
   ]
  },
  {
   "cell_type": "code",
   "execution_count": null,
   "id": "2be7252d-e45d-4f89-9be8-0edfa5f41a15",
   "metadata": {
    "scrolled": true,
    "tags": []
   },
   "outputs": [],
   "source": [
    "visualize(tmp_f.squeeze().numpy()[:10, ...])"
   ]
  },
  {
   "cell_type": "code",
   "execution_count": null,
   "id": "5c01d0c4-9760-4625-abb2-94f18b318d74",
   "metadata": {
    "scrolled": true,
    "tags": []
   },
   "outputs": [],
   "source": [
    "visualize(tmp_b.squeeze().numpy()[:10, ...])"
   ]
  },
  {
   "cell_type": "code",
   "execution_count": null,
   "id": "4208f473-7933-440e-bebb-1947552aa458",
   "metadata": {
    "scrolled": true,
    "tags": []
   },
   "outputs": [],
   "source": [
    "visualize(tmp_m.squeeze().numpy()[:10, ...])"
   ]
  },
  {
   "cell_type": "markdown",
   "id": "bc4bc112-e7d5-4957-8073-c198e14526cc",
   "metadata": {},
   "source": [
    "# Model"
   ]
  },
  {
   "cell_type": "code",
   "execution_count": null,
   "metadata": {},
   "outputs": [],
   "source": [
    "NODES = params.style_nodes + [params.output_layer]\n",
    "net = ReconstructionModel(params.filters, params.kernels, params.embeddings, NODES)"
   ]
  },
  {
   "cell_type": "markdown",
   "metadata": {},
   "source": [
    "# Train"
   ]
  },
  {
   "cell_type": "code",
   "execution_count": null,
   "metadata": {},
   "outputs": [],
   "source": [
    "criterion = loss_fn\n",
    "optimizer = torch.optim.Adam(net.parameters(), lr=params.learning_rate)\n",
    "scheduler = torch.optim.lr_scheduler.MultiStepLR(\n",
    "    optimizer, milestones=params.milestones, gamma=0.1, verbose=True\n",
    ")"
   ]
  },
  {
   "cell_type": "code",
   "execution_count": null,
   "metadata": {},
   "outputs": [],
   "source": [
    "train_loss, test_loss = train_evaluate(net, dataloaders, criterion, optimizer, scheduler, params)"
   ]
  },
  {
   "cell_type": "code",
   "execution_count": null,
   "metadata": {},
   "outputs": [],
   "source": [
    "plt.plot(range(params.epochs), train_loss, \"o-\")\n",
    "plt.plot(range(params.epochs), test_loss, \"o-\")\n",
    "#plt.yscale(\"log\")\n",
    "plt.xlabel(\"Epochs\")\n",
    "plt.ylabel(\"Loss\")\n",
    "plt.legend([\"Train loss\", \"Test loss\"]);"
   ]
  },
  {
   "cell_type": "markdown",
   "metadata": {},
   "source": [
    "# Visualize"
   ]
  },
  {
   "cell_type": "code",
   "execution_count": null,
   "metadata": {},
   "outputs": [],
   "source": [
    "def get_predictions(\n",
    "    net: torch.nn.Module, images: torch.tensor, avg_img: np.ndarray, mode: str, device: torch.device\n",
    ") -> np.ndarray:\n",
    "    \"\"\"Get output tensors of the model predictions\n",
    "    Args:\n",
    "        net: Neural network model\n",
    "        images: Input batch of images\n",
    "        avg_img: Average image\n",
    "        mode: Normalize or minmax or identity scaler\n",
    "        device: GPU/CPU\n",
    "    Raises:\n",
    "        Value error if incorrect mode is set\n",
    "    Returns:\n",
    "        Numpy array of predictions\n",
    "    \"\"\"\n",
    "    net = net.to(params.device)\n",
    "\n",
    "    net.eval()\n",
    "    with torch.no_grad():\n",
    "        images = images.to(params.device)\n",
    "        outputs = net(images)\n",
    "    result = outputs[params.output_layer]\n",
    "\n",
    "    if mode == \"normalize\":\n",
    "        result = (result * avg_img.std()) + avg_img.mean()\n",
    "    elif mode == \"minmax\":\n",
    "        result = (result * (avg_img.max() - avg_img.min())) + avg_img.min()\n",
    "    elif mode == \"identity\":\n",
    "        pass\n",
    "    else:\n",
    "        raise ValueError(\"Incorrect mode!\")\n",
    "\n",
    "    return result.squeeze(1).cpu().numpy()"
   ]
  },
  {
   "cell_type": "code",
   "execution_count": null,
   "metadata": {},
   "outputs": [],
   "source": [
    "imgs, labels, _ = next(iter(dataloaders[\"test\"]))\n",
    "labels = labels.squeeze().cpu().numpy()\n",
    "\n",
    "outputs = get_predictions(net, imgs, front, \"identity\", params)\n",
    "print(f\"min: {outputs.min()}, max: {outputs.max()}\")"
   ]
  },
  {
   "cell_type": "code",
   "execution_count": null,
   "metadata": {},
   "outputs": [],
   "source": [
    "n, h, w = outputs.shape\n",
    "combined = np.empty((2 * n, h, w), dtype=outputs.dtype)\n",
    "combined[0::2, :, :] = outputs\n",
    "combined[1::2, :, :] = labels"
   ]
  },
  {
   "cell_type": "code",
   "execution_count": null,
   "metadata": {},
   "outputs": [],
   "source": [
    "visualize(combined)"
   ]
  },
  {
   "cell_type": "markdown",
   "metadata": {},
   "source": [
    "# Tensorboard"
   ]
  },
  {
   "cell_type": "code",
   "execution_count": null,
   "metadata": {},
   "outputs": [],
   "source": [
    "#%tensorboard --logdir ${params.tb_path}"
   ]
  },
  {
   "cell_type": "code",
   "execution_count": null,
   "metadata": {},
   "outputs": [],
   "source": []
  }
 ],
 "metadata": {
  "kernelspec": {
   "display_name": "Python 3.8.13 ('cv3d-env')",
   "language": "python",
   "name": "python3"
  },
  "language_info": {
   "codemirror_mode": {
    "name": "ipython",
    "version": 3
   },
   "file_extension": ".py",
   "mimetype": "text/x-python",
   "name": "python",
   "nbconvert_exporter": "python",
   "pygments_lexer": "ipython3",
   "version": "3.8.13"
  },
  "orig_nbformat": 4,
  "vscode": {
   "interpreter": {
    "hash": "a2f71e6011faa0109c6544a926ac70c80d3ea1a0e18aed42a92f791a760d489a"
   }
  }
 },
 "nbformat": 4,
 "nbformat_minor": 2
}
