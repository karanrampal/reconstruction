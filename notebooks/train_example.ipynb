{
 "cells": [
  {
   "cell_type": "code",
   "execution_count": null,
   "metadata": {},
   "outputs": [],
   "source": [
    "from glob import glob\n",
    "import math\n",
    "import os\n",
    "import sys\n",
    "import time\n",
    "from typing import List, Tuple\n",
    "sys.path.insert(0, \"../src\")\n",
    "\n",
    "import matplotlib.pyplot as plt\n",
    "import numpy as np\n",
    "from numpy.random import MT19937, RandomState, SeedSequence\n",
    "import pandas as pd\n",
    "import torch\n",
    "from torchvision.models.feature_extraction import create_feature_extractor\n",
    "\n",
    "from config_manager.manager import Params\n",
    "from data_loaders.dataloader import get_dataloaders\n",
    "from model.losses import loss_fn\n",
    "from model.cascade_net import CascadeNet\n",
    "from trainers.train_engine import train_evaluate\n",
    "\n",
    "RNG = RandomState(MT19937(SeedSequence(123456789)))\n",
    "TRNG = torch.random.manual_seed(42)\n",
    "\n",
    "torch.backends.cudnn.deterministic = True\n",
    "\n",
    "plt.style.use('dark_background')\n",
    "\n",
    "%load_ext tensorboard"
   ]
  },
  {
   "cell_type": "code",
   "execution_count": null,
   "metadata": {},
   "outputs": [],
   "source": [
    "NUM_CASCADES = 1\n",
    "\n",
    "param_dict = {\n",
    "    \"data_path\": \"../../datasets/caesar\",\n",
    "    \"save_path\": os.path.join(\"../output/experiment\", time.strftime(\"run_%d_%m_%H%M%S\")),\n",
    "    \"resize\": 224,\n",
    "    \"batch_size\": 8,\n",
    "    \"num_workers\": 2,\n",
    "    \"pin_memory\": torch.cuda.is_available(),\n",
    "    \"device\": \"cuda:0\" if torch.cuda.is_available() else \"cpu\",\n",
    "    \"epochs\": 10,\n",
    "    \"learning_rate\": 0.001,\n",
    "    \"num_encodings\": 6,\n",
    "    \"temperature\": 1.0,\n",
    "    \"out_channels\": [1 for _ in range(NUM_CASCADES)],\n",
    "    \"filters\": [[64, 64, 128, 256, 512, 512, 512, 512] for _ in range(NUM_CASCADES)],\n",
    "    \"kernels\": [[3, 3, 3, 3, 3, 3, 3, 3] for _ in range(NUM_CASCADES)],\n",
    "    \"milestones\": [5],\n",
    "    \"person\": 0.0,\n",
    "    \"bg\": 1.0,\n",
    "    \"tvl\": 0.1,\n",
    "    \"style\": 10.0,\n",
    "    \"perceptual\": 0.05,\n",
    "    \"exp\": 1.0,\n",
    "    \"grad\": 0.1,\n",
    "    \"disc\": 0.1,\n",
    "    \"style_layers\": [f\"net_stack.{NUM_CASCADES - 1}.encoder.{i + 1}.activation\" for i in range(3)],\n",
    "    \"vgg_style\": [\"features.6\", \"features.13\", \"features.26\"],\n",
    "    \"cascade_layers\": [f\"net_stack.{i}.out_conv.activation\" for i in range(NUM_CASCADES - 1)],\n",
    "    \"embedding_layer\": f\"net_stack.{NUM_CASCADES - 1}.encoder.7.activation\",\n",
    "    \"output_layer\": f\"net_stack.{NUM_CASCADES - 1}.out_conv.activation\",\n",
    "}\n",
    "\n",
    "params = Params(param_dict)\n",
    "print(params)"
   ]
  },
  {
   "cell_type": "markdown",
   "id": "d109cedb-d146-4743-84d0-824fc0e8a9eb",
   "metadata": {},
   "source": [
    "# Read data"
   ]
  },
  {
   "cell_type": "code",
   "execution_count": null,
   "metadata": {},
   "outputs": [],
   "source": [
    "def create_data_split(data_path: str) -> None:\n",
    "    \"\"\"Split and save train and test set\n",
    "    Args:\n",
    "        data_path: Path to dataset\n",
    "    \"\"\"\n",
    "    tmp = list(filter(lambda x: \"front\" in x, glob(data_path + \"/**/*.png\", recursive=True)))\n",
    "    avatars = [os.path.basename(x) for x in tmp]\n",
    "\n",
    "    ids = RNG.permutation(avatars)\n",
    "    num = int(len(ids) * 0.95)\n",
    "    train_list = ids[:num]\n",
    "    test_list = ids[num:]\n",
    "\n",
    "    df_train = pd.DataFrame(train_list)\n",
    "    df_train.to_csv(os.path.join(data_path, \"train.csv\"), header=False, index=False)\n",
    "    df_test = pd.DataFrame(test_list)\n",
    "    df_test.to_csv(os.path.join(data_path, \"test.csv\"), header=False, index=False)"
   ]
  },
  {
   "cell_type": "code",
   "execution_count": null,
   "metadata": {},
   "outputs": [],
   "source": [
    "if not os.path.exists(os.path.join(params.data_path, \"train.csv\")):\n",
    "    create_data_split(params.data_path)\n",
    "else:\n",
    "    print(f\"Data split alread exists at {params.data_path}\")"
   ]
  },
  {
   "cell_type": "markdown",
   "id": "e744d718-a0b9-497c-b705-3d05209cf224",
   "metadata": {
    "tags": []
   },
   "source": [
    "# Data loaders"
   ]
  },
  {
   "cell_type": "code",
   "execution_count": null,
   "id": "2edfdce0-4ad0-4e3d-a84f-beaae7c5695f",
   "metadata": {},
   "outputs": [],
   "source": [
    "def visualize(outputs: np.ndarray, row_titles: List[str], ncols: int = 3) -> None:\n",
    "    \"\"\"Visuzlize results\n",
    "    Args:\n",
    "        outputs: Model predictions\n",
    "        row_titles: Titles of each figure in a row\n",
    "        ncols: Number of columns\n",
    "    \"\"\"\n",
    "    num = outputs.shape[0]\n",
    "    nrow = math.ceil(num / ncols)\n",
    "    if len(row_titles) == ncols:\n",
    "        row_titles *= nrow \n",
    "    else:\n",
    "        row_titles *= num\n",
    "    fig, axi = plt.subplots(nrow, ncols, figsize=(15, nrow * 3))\n",
    "    axi = axi.flatten()\n",
    "    for i, ax in enumerate(axi):\n",
    "        if i < num:\n",
    "            cb_ = ax.imshow(outputs[i], cmap=\"gray\")\n",
    "            ax.set_title(row_titles[i])\n",
    "            ax.grid()\n",
    "            fig.colorbar(cb_, ax=ax)\n",
    "        else:\n",
    "            ax.axis(\"off\")\n",
    "    fig.tight_layout()\n",
    "\n",
    "def plot_hist(\n",
    "    data: List[np.ndarray], bins: int, titles: List[str], figsize: Tuple[int, int]\n",
    ") -> None:\n",
    "    \"\"\"Plot histogram of data\n",
    "    Args:\n",
    "        data: Data to plot\n",
    "        bins: Bins for the histogram\n",
    "        titles: List of titles for each histogram\n",
    "        figsize: Width and height of plot\n",
    "    \"\"\"\n",
    "    num = len(data)\n",
    "    fig, ax = plt.subplots(1, num, figsize=figsize, sharey=True)\n",
    "    for i, axi in enumerate(ax):\n",
    "        counts, vals = np.histogram(data[i], bins=bins)\n",
    "        axi.stairs(counts, vals, fill=True)\n",
    "        axi.set_title(titles[i])\n",
    "        axi.set_ylabel(\"Log( counts )\")\n",
    "        axi.set_xlabel(\"Values\")\n",
    "        axi.grid()\n",
    "        axi.semilogy()\n",
    "    fig.tight_layout()"
   ]
  },
  {
   "cell_type": "code",
   "execution_count": null,
   "metadata": {},
   "outputs": [],
   "source": [
    "dataloaders = get_dataloaders([\"train\", \"test\"], params)"
   ]
  },
  {
   "cell_type": "code",
   "execution_count": null,
   "id": "d647abc6-a97a-4d75-a576-51f05e43a3aa",
   "metadata": {},
   "outputs": [],
   "source": [
    "tmp_f, tmp_b, tmp_m = next(iter(dataloaders[\"train\"]))"
   ]
  },
  {
   "cell_type": "code",
   "execution_count": null,
   "metadata": {},
   "outputs": [],
   "source": [
    "print(f\"Front min: {tmp_f.min()}, max: {tmp_f.max()}\")\n",
    "print(f\"Back min: {tmp_b.min()}, max: {tmp_b.max()}\")\n",
    "print(f\"Back mask min: {tmp_m.min()}, max: {tmp_m.max()}\")"
   ]
  },
  {
   "cell_type": "code",
   "execution_count": null,
   "id": "2be7252d-e45d-4f89-9be8-0edfa5f41a15",
   "metadata": {
    "scrolled": true,
    "tags": []
   },
   "outputs": [],
   "source": [
    "visualize(tmp_f.permute(0, 2, 3, 1).numpy()[:10, ...], [\"Front\"])"
   ]
  },
  {
   "cell_type": "code",
   "execution_count": null,
   "id": "5c01d0c4-9760-4625-abb2-94f18b318d74",
   "metadata": {
    "scrolled": true,
    "tags": []
   },
   "outputs": [],
   "source": [
    "visualize(tmp_b.permute(0, 2, 3, 1).numpy()[:10, ...], [\"Front\"])"
   ]
  },
  {
   "cell_type": "code",
   "execution_count": null,
   "metadata": {},
   "outputs": [],
   "source": [
    "visualize(tmp_m.permute(0, 2, 3, 1).numpy()[:10, ...], [\"Front\"])"
   ]
  },
  {
   "cell_type": "code",
   "execution_count": null,
   "metadata": {},
   "outputs": [],
   "source": [
    "plot_hist(\n",
    "    [tmp_f.squeeze().numpy(), tmp_b.squeeze().numpy()],\n",
    "    30,\n",
    "    [\"Front\", \"Back\"],\n",
    "    (15, 5)\n",
    ")"
   ]
  },
  {
   "cell_type": "markdown",
   "id": "bc4bc112-e7d5-4957-8073-c198e14526cc",
   "metadata": {},
   "source": [
    "# Model"
   ]
  },
  {
   "cell_type": "code",
   "execution_count": null,
   "metadata": {},
   "outputs": [],
   "source": [
    "base_model = CascadeNet(params)"
   ]
  },
  {
   "cell_type": "code",
   "execution_count": null,
   "metadata": {},
   "outputs": [],
   "source": [
    "NODES = params.style_layers + params.cascade_layers + [params.embedding_layer, params.output_layer]\n",
    "net = create_feature_extractor(base_model, return_nodes=NODES)\n",
    "net"
   ]
  },
  {
   "cell_type": "markdown",
   "metadata": {},
   "source": [
    "# Train"
   ]
  },
  {
   "cell_type": "code",
   "execution_count": null,
   "metadata": {},
   "outputs": [],
   "source": [
    "criterion = loss_fn\n",
    "optimizer = torch.optim.Adam(net.parameters(), lr=params.learning_rate)\n",
    "scheduler = torch.optim.lr_scheduler.MultiStepLR(\n",
    "    optimizer, milestones=params.milestones, gamma=0.1, verbose=True\n",
    ")"
   ]
  },
  {
   "cell_type": "code",
   "execution_count": null,
   "metadata": {},
   "outputs": [],
   "source": [
    "train_evaluate(base_model, net, dataloaders, criterion, optimizer, scheduler, params)"
   ]
  },
  {
   "cell_type": "markdown",
   "metadata": {},
   "source": [
    "# Visualize"
   ]
  },
  {
   "cell_type": "code",
   "execution_count": null,
   "metadata": {},
   "outputs": [],
   "source": [
    "def get_predictions(\n",
    "    net: torch.nn.Module,\n",
    "    images: torch.tensor,\n",
    "    mask: torch.tensor,\n",
    "    params: Params,\n",
    ") -> np.ndarray:\n",
    "    \"\"\"Get output tensors of the model predictions\n",
    "    Args:\n",
    "        net: Neural network model\n",
    "        images: Input batch of images\n",
    "        mask: Input mask of back\n",
    "        params: Params\n",
    "    Returns:\n",
    "        Numpy array of predictions\n",
    "    \"\"\"\n",
    "    net = net.to(torch.device(params.device))\n",
    "\n",
    "    net.eval()\n",
    "    with torch.no_grad():\n",
    "        images = images.to(torch.device(params.device))\n",
    "        mask = mask.to(torch.device(params.device))\n",
    "        outputs = net(images, mask.to(torch.float32))\n",
    "    result = outputs[params.output_layer]\n",
    "\n",
    "    return result.cpu().numpy()"
   ]
  },
  {
   "cell_type": "code",
   "execution_count": null,
   "metadata": {},
   "outputs": [],
   "source": [
    "imgs, labels, mask = next(iter(dataloaders[\"test\"]))\n",
    "labels = labels.cpu().numpy()\n",
    "\n",
    "outputs = get_predictions(net, imgs, mask, params)\n",
    "print(f\"Outputs min: {outputs.min()}, max: {outputs.max()}\")\n",
    "print(f\"Labels min: {labels.min()}, max: {labels.max()}\")"
   ]
  },
  {
   "cell_type": "code",
   "execution_count": null,
   "metadata": {},
   "outputs": [],
   "source": [
    "p = 4\n",
    "n, c, h, w = outputs.shape\n",
    "combined = np.empty((p * n, h, w, c), dtype=outputs.dtype)\n",
    "\n",
    "combined[p - 4::p, :, :] = imgs.cpu().permute(0, 2, 3, 1).numpy()\n",
    "combined[p - 3::p, ...] = np.moveaxis(outputs, 1, -1)\n",
    "combined[p - 2::p, ...] = np.moveaxis(labels, 1, -1)\n",
    "combined[p - 1::p, ...] = np.abs(np.moveaxis(outputs - labels, 1, -1))"
   ]
  },
  {
   "cell_type": "code",
   "execution_count": null,
   "metadata": {},
   "outputs": [],
   "source": [
    "visualize(combined, [\"Input\", \"Pred\", \"Label\", \"Error\"], p)"
   ]
  },
  {
   "cell_type": "code",
   "execution_count": null,
   "metadata": {},
   "outputs": [],
   "source": [
    "plot_hist([labels, outputs], 30, [\"GT\", \"Pred\"], (15, 5))"
   ]
  },
  {
   "cell_type": "markdown",
   "metadata": {},
   "source": [
    "# Tensorboard"
   ]
  },
  {
   "cell_type": "code",
   "execution_count": null,
   "metadata": {},
   "outputs": [],
   "source": [
    "#os.environ[\"TENSORBOARD_BINARY\"] = \"/opt/conda/envs/cv3d-env/bin/tensorboard\""
   ]
  },
  {
   "cell_type": "code",
   "execution_count": null,
   "metadata": {},
   "outputs": [],
   "source": [
    "#%tensorboard --logdir $params.tb_path"
   ]
  },
  {
   "cell_type": "code",
   "execution_count": null,
   "metadata": {},
   "outputs": [],
   "source": []
  }
 ],
 "metadata": {
  "kernelspec": {
   "display_name": "Python 3.8.13 ('cv3d-env')",
   "language": "python",
   "name": "python3"
  },
  "language_info": {
   "codemirror_mode": {
    "name": "ipython",
    "version": 3
   },
   "file_extension": ".py",
   "mimetype": "text/x-python",
   "name": "python",
   "nbconvert_exporter": "python",
   "pygments_lexer": "ipython3",
   "version": "3.8.13"
  },
  "orig_nbformat": 4,
  "vscode": {
   "interpreter": {
    "hash": "a2f71e6011faa0109c6544a926ac70c80d3ea1a0e18aed42a92f791a760d489a"
   }
  }
 },
 "nbformat": 4,
 "nbformat_minor": 2
}
