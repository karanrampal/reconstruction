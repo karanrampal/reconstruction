{
 "cells": [
  {
   "cell_type": "markdown",
   "metadata": {},
   "source": [
    "# Import packages"
   ]
  },
  {
   "cell_type": "code",
   "execution_count": null,
   "metadata": {},
   "outputs": [],
   "source": [
    "import sys\n",
    "sys.path.insert(0, \"../src\")\n",
    "\n",
    "from datahandler.datahandler import DataHandler\n",
    "from segmentation.segmentation import Segmentation\n",
    "from pointcloud.pointcloud import PointCloudManip\n",
    "import utils.utils as utils\n",
    "\n",
    "import matplotlib.pyplot as plt\n",
    "import numpy as np\n",
    "import open3d as o3d"
   ]
  },
  {
   "cell_type": "markdown",
   "metadata": {},
   "source": [
    "# Set variables"
   ]
  },
  {
   "cell_type": "code",
   "execution_count": null,
   "metadata": {},
   "outputs": [],
   "source": [
    "root = \"../data/data_10_31\"\n",
    "img_path = \"capture-31-10-1\"\n",
    "calib_path = \"calibration_2022_10_31_14_59_14_1667224754485089818\"\n",
    "\n",
    "# Can be None or [\"215122254778\", \"151422251878\", \"215122256544\", \"213522251068\"]\n",
    "cams_to_keep = None"
   ]
  },
  {
   "cell_type": "markdown",
   "metadata": {},
   "source": [
    "# Load data"
   ]
  },
  {
   "cell_type": "code",
   "execution_count": null,
   "metadata": {},
   "outputs": [],
   "source": [
    "dh_ = DataHandler(root, img_path, calib_path, cams_to_keep)"
   ]
  },
  {
   "cell_type": "code",
   "execution_count": null,
   "metadata": {},
   "outputs": [],
   "source": [
    "person_rgb, person_depth = dh_.load_images(\"mans\")\n",
    "bg_rgb, bg_depth = dh_.load_images(\"background\")\n",
    "\n",
    "trans = dh_.load_transformations()\n",
    "depth_scales = dh_.load_depth_scales()\n",
    "intrinsics = dh_.load_intrinsics()"
   ]
  },
  {
   "cell_type": "code",
   "execution_count": null,
   "metadata": {},
   "outputs": [],
   "source": [
    "print(depth_scales)"
   ]
  },
  {
   "cell_type": "code",
   "execution_count": null,
   "metadata": {},
   "outputs": [],
   "source": [
    "print(trans)"
   ]
  },
  {
   "cell_type": "code",
   "execution_count": null,
   "metadata": {},
   "outputs": [],
   "source": [
    "print(intrinsics)"
   ]
  },
  {
   "cell_type": "code",
   "execution_count": null,
   "metadata": {},
   "outputs": [],
   "source": [
    "utils.plot_rgbd(list(person_rgb.values()), list(person_depth.values()))"
   ]
  },
  {
   "cell_type": "code",
   "execution_count": null,
   "metadata": {},
   "outputs": [],
   "source": [
    "utils.plot_rgbd(list(bg_rgb.values()), list(bg_depth.values()))"
   ]
  },
  {
   "cell_type": "markdown",
   "metadata": {},
   "source": [
    "# Segment person"
   ]
  },
  {
   "cell_type": "code",
   "execution_count": null,
   "metadata": {},
   "outputs": [],
   "source": [
    "seg = Segmentation()"
   ]
  },
  {
   "cell_type": "code",
   "execution_count": null,
   "metadata": {},
   "outputs": [],
   "source": [
    "out_rgb, out_dep = seg.segment_person(\n",
    "    list(person_rgb.values()),\n",
    "    list(person_depth.values())\n",
    ")"
   ]
  },
  {
   "cell_type": "code",
   "execution_count": null,
   "metadata": {},
   "outputs": [],
   "source": [
    "utils.plot_rgbd(out_rgb, out_dep)"
   ]
  },
  {
   "cell_type": "markdown",
   "metadata": {},
   "source": [
    "# Depth filtering"
   ]
  },
  {
   "cell_type": "code",
   "execution_count": null,
   "metadata": {},
   "outputs": [],
   "source": [
    "thr = 1700\n",
    "out_dep_filt = [np.where(im <= thr, im, 0) for im in out_dep]"
   ]
  },
  {
   "cell_type": "code",
   "execution_count": null,
   "metadata": {},
   "outputs": [],
   "source": [
    "utils.plot_rgbd(out_rgb, out_dep_filt)"
   ]
  },
  {
   "cell_type": "markdown",
   "metadata": {},
   "source": [
    "# Create Point Cloud"
   ]
  },
  {
   "cell_type": "code",
   "execution_count": null,
   "metadata": {},
   "outputs": [],
   "source": [
    "pcd = PointCloudManip.create_point_cloud(\n",
    "    (\n",
    "        dict(zip(person_rgb.keys(), out_rgb)),\n",
    "        dict(zip(person_depth.keys(), out_dep_filt)),\n",
    "    ),\n",
    "    depth_scales,\n",
    "    trans,\n",
    "    intrinsics\n",
    ")"
   ]
  },
  {
   "cell_type": "code",
   "execution_count": null,
   "metadata": {},
   "outputs": [],
   "source": [
    "o3d.visualization.draw_geometries([pcd])"
   ]
  },
  {
   "cell_type": "markdown",
   "metadata": {},
   "source": [
    "### Distance filtering"
   ]
  },
  {
   "cell_type": "code",
   "execution_count": null,
   "metadata": {},
   "outputs": [],
   "source": [
    "pcd_person = PointCloudManip.create_point_cloud(\n",
    "    (\n",
    "        person_rgb,\n",
    "        person_depth,\n",
    "    ),\n",
    "    depth_scales,\n",
    "    trans,\n",
    "    intrinsics\n",
    ")"
   ]
  },
  {
   "cell_type": "code",
   "execution_count": null,
   "metadata": {},
   "outputs": [],
   "source": [
    "pcd_bg = PointCloudManip.create_point_cloud(\n",
    "    (\n",
    "        bg_rgb,\n",
    "        bg_depth,\n",
    "    ),\n",
    "    depth_scales,\n",
    "    trans,\n",
    "    intrinsics\n",
    ")"
   ]
  },
  {
   "cell_type": "code",
   "execution_count": null,
   "metadata": {},
   "outputs": [],
   "source": [
    "pcd_f = PointCloudManip.distance_filter(pcd_person, pcd_bg, 0.06)\n"
   ]
  },
  {
   "cell_type": "code",
   "execution_count": null,
   "metadata": {},
   "outputs": [],
   "source": [
    "o3d.visualization.draw_geometries([pcd_f])"
   ]
  },
  {
   "cell_type": "markdown",
   "metadata": {},
   "source": [
    "### Segment out plane"
   ]
  },
  {
   "cell_type": "code",
   "execution_count": null,
   "metadata": {},
   "outputs": [],
   "source": [
    "pcd_s = PointCloudManip.segment_out_plane(pcd_person, 0.05)"
   ]
  },
  {
   "cell_type": "code",
   "execution_count": null,
   "metadata": {},
   "outputs": [],
   "source": [
    "o3d.visualization.draw_geometries([pcd_s])"
   ]
  },
  {
   "cell_type": "markdown",
   "metadata": {},
   "source": [
    "### Simple Crop"
   ]
  },
  {
   "cell_type": "code",
   "execution_count": null,
   "metadata": {},
   "outputs": [],
   "source": [
    "print(f\"Min bounds: {pcd_s.get_min_bound()}\")\n",
    "print(f\"Max bounds: {pcd_s.get_max_bound()}\")"
   ]
  },
  {
   "cell_type": "code",
   "execution_count": null,
   "metadata": {},
   "outputs": [],
   "source": [
    "min_bounds = (-1.0, -2.0, 0.0)\n",
    "max_bounds = (1.0, 2.0, 2.0)\n",
    "pcd_c = PointCloudManip.crop_pcd(pcd_s, min_bounds, max_bounds)"
   ]
  },
  {
   "cell_type": "code",
   "execution_count": null,
   "metadata": {},
   "outputs": [],
   "source": [
    "o3d.visualization.draw_geometries([pcd_c])"
   ]
  },
  {
   "cell_type": "markdown",
   "metadata": {},
   "source": [
    "# Create Mesh"
   ]
  },
  {
   "cell_type": "code",
   "execution_count": null,
   "metadata": {},
   "outputs": [],
   "source": [
    "mesh = utils.create_mesh_tsdf(\n",
    "    dict(zip(person_rgb.keys(), out_rgb)),\n",
    "    dict(zip(person_depth.keys(), out_dep)),\n",
    "    depth_scales,\n",
    "    trans,\n",
    "    intrinsics)"
   ]
  },
  {
   "cell_type": "code",
   "execution_count": null,
   "metadata": {},
   "outputs": [],
   "source": [
    "o3d.visualization.draw_geometries([mesh])"
   ]
  },
  {
   "cell_type": "code",
   "execution_count": null,
   "metadata": {},
   "outputs": [],
   "source": []
  }
 ],
 "metadata": {
  "kernelspec": {
   "display_name": "Python 3.8.13 ('cv3d-env')",
   "language": "python",
   "name": "python3"
  },
  "language_info": {
   "codemirror_mode": {
    "name": "ipython",
    "version": 3
   },
   "file_extension": ".py",
   "mimetype": "text/x-python",
   "name": "python",
   "nbconvert_exporter": "python",
   "pygments_lexer": "ipython3",
   "version": "3.8.13"
  },
  "orig_nbformat": 4,
  "vscode": {
   "interpreter": {
    "hash": "a2f71e6011faa0109c6544a926ac70c80d3ea1a0e18aed42a92f791a760d489a"
   }
  }
 },
 "nbformat": 4,
 "nbformat_minor": 2
}
