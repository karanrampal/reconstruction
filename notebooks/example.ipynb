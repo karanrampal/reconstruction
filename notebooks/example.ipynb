{
 "cells": [
  {
   "cell_type": "markdown",
   "metadata": {},
   "source": [
    "# Import packages"
   ]
  },
  {
   "cell_type": "code",
   "execution_count": null,
   "metadata": {},
   "outputs": [],
   "source": [
    "import copy\n",
    "import sys\n",
    "sys.path.insert(0, \"../src\")\n",
    "\n",
    "from datahandler.datahandler import DataHandler\n",
    "from pointcloud.pointcloud import PointCloudManip\n",
    "from segmentation.segmentation import Segmentation\n",
    "import utils.utils as utils\n",
    "\n",
    "import matplotlib.pyplot as plt\n",
    "import numpy as np\n",
    "import open3d as o3d"
   ]
  },
  {
   "cell_type": "markdown",
   "metadata": {},
   "source": [
    "# Set variables"
   ]
  },
  {
   "cell_type": "code",
   "execution_count": null,
   "metadata": {},
   "outputs": [],
   "source": [
    "root = \"../data/data_10_31\"\n",
    "img_path = \"capture-31-10-1\"\n",
    "calib_path = \"calibration_2022_10_31_14_59_14_1667224754485089818\"\n",
    "\n",
    "cams_to_keep = None  # Can be None or [\"215122254778\", \"151422251878\", \"215122256544\", \"213522251068\"]"
   ]
  },
  {
   "cell_type": "code",
   "execution_count": null,
   "metadata": {},
   "outputs": [],
   "source": [
    "zoom = 1.0\n",
    "front = [0.0, 0.0, 1.0]\n",
    "up = [1.0, 0.0, 0.0]\n",
    "\n",
    "coord = o3d.geometry.TriangleMesh.create_coordinate_frame(0.5, [0, 0, 0])"
   ]
  },
  {
   "cell_type": "markdown",
   "metadata": {},
   "source": [
    "# Load data"
   ]
  },
  {
   "cell_type": "code",
   "execution_count": null,
   "metadata": {},
   "outputs": [],
   "source": [
    "dh_ = DataHandler(root, img_path, calib_path, cams_to_keep)"
   ]
  },
  {
   "cell_type": "code",
   "execution_count": null,
   "metadata": {},
   "outputs": [],
   "source": [
    "person_rgb, person_depth = dh_.load_images(\"mans\")\n",
    "bg_rgb, bg_depth = dh_.load_images(\"background\")\n",
    "\n",
    "trans = dh_.load_transformations()\n",
    "depth_scales = dh_.load_depth_scales()\n",
    "intrinsics = dh_.load_intrinsics()"
   ]
  },
  {
   "cell_type": "code",
   "execution_count": null,
   "metadata": {},
   "outputs": [],
   "source": [
    "print(depth_scales)"
   ]
  },
  {
   "cell_type": "code",
   "execution_count": null,
   "metadata": {},
   "outputs": [],
   "source": [
    "print(trans)"
   ]
  },
  {
   "cell_type": "code",
   "execution_count": null,
   "metadata": {},
   "outputs": [],
   "source": [
    "print(intrinsics)"
   ]
  },
  {
   "cell_type": "code",
   "execution_count": null,
   "metadata": {},
   "outputs": [],
   "source": [
    "utils.plot_rgbd(list(person_rgb.values()), list(person_depth.values()))"
   ]
  },
  {
   "cell_type": "code",
   "execution_count": null,
   "metadata": {},
   "outputs": [],
   "source": [
    "utils.plot_rgbd(list(bg_rgb.values()), list(bg_depth.values()))"
   ]
  },
  {
   "cell_type": "markdown",
   "metadata": {},
   "source": [
    "# Segment person"
   ]
  },
  {
   "cell_type": "code",
   "execution_count": null,
   "metadata": {},
   "outputs": [],
   "source": [
    "seg = Segmentation()"
   ]
  },
  {
   "cell_type": "code",
   "execution_count": null,
   "metadata": {},
   "outputs": [],
   "source": [
    "masks = seg.get_person_masks(list(person_rgb.values()))"
   ]
  },
  {
   "cell_type": "code",
   "execution_count": null,
   "metadata": {},
   "outputs": [],
   "source": [
    "out_rgb, out_dep = seg.apply_masks(list(person_rgb.values()), masks, list(person_depth.values()))"
   ]
  },
  {
   "cell_type": "code",
   "execution_count": null,
   "metadata": {},
   "outputs": [],
   "source": [
    "utils.plot_rgbd(out_rgb, out_dep)"
   ]
  },
  {
   "cell_type": "markdown",
   "metadata": {},
   "source": [
    "# Depth filtering"
   ]
  },
  {
   "cell_type": "code",
   "execution_count": null,
   "metadata": {},
   "outputs": [],
   "source": [
    "threshold = 1.7\n",
    "\n",
    "_, scale = list(depth_scales.items())[0]\n",
    "thr = threshold / scale\n",
    "out_dep_filt = [np.where(im <= thr, im, 0) for im in out_dep]"
   ]
  },
  {
   "cell_type": "code",
   "execution_count": null,
   "metadata": {},
   "outputs": [],
   "source": [
    "utils.plot_rgbd(out_rgb, out_dep_filt)"
   ]
  },
  {
   "cell_type": "markdown",
   "metadata": {},
   "source": [
    "# Create Point Cloud"
   ]
  },
  {
   "cell_type": "code",
   "execution_count": null,
   "metadata": {},
   "outputs": [],
   "source": [
    "pcd = PointCloudManip.create_point_cloud(\n",
    "    (\n",
    "        dict(zip(person_rgb.keys(), out_rgb)),\n",
    "        dict(zip(person_depth.keys(), out_dep_filt)),\n",
    "    ),\n",
    "    depth_scales,\n",
    "    trans,\n",
    "    intrinsics\n",
    ")"
   ]
  },
  {
   "cell_type": "code",
   "execution_count": null,
   "metadata": {},
   "outputs": [],
   "source": [
    "o3d.visualization.draw_geometries(\n",
    "    [pcd, coord], zoom=zoom, front=front, lookat=pcd.get_center(), up=up\n",
    ")"
   ]
  },
  {
   "cell_type": "markdown",
   "metadata": {},
   "source": [
    "### Convex hull"
   ]
  },
  {
   "cell_type": "code",
   "execution_count": null,
   "metadata": {},
   "outputs": [],
   "source": [
    "hull, _ = pcd.compute_convex_hull()\n",
    "\n",
    "o3d.visualization.draw_geometries(\n",
    "    [hull, coord], zoom=zoom, front=front, lookat=hull.get_center(), up=up\n",
    ")"
   ]
  },
  {
   "cell_type": "code",
   "execution_count": null,
   "metadata": {},
   "outputs": [],
   "source": [
    "hull_ls = o3d.geometry.LineSet.create_from_triangle_mesh(hull)\n",
    "hull_ls.paint_uniform_color((1, 0, 0))\n",
    "\n",
    "o3d.visualization.draw_geometries(\n",
    "    [pcd, hull_ls, coord], zoom=zoom, front=front, lookat=pcd.get_center(), up=up\n",
    ")"
   ]
  },
  {
   "cell_type": "markdown",
   "metadata": {},
   "source": [
    "### Distance filtering"
   ]
  },
  {
   "cell_type": "code",
   "execution_count": null,
   "metadata": {},
   "outputs": [],
   "source": [
    "pcd_person = PointCloudManip.create_point_cloud(\n",
    "    (person_rgb, person_depth), depth_scales, trans, intrinsics\n",
    ")"
   ]
  },
  {
   "cell_type": "code",
   "execution_count": null,
   "metadata": {},
   "outputs": [],
   "source": [
    "pcd_bg = PointCloudManip.create_point_cloud((bg_rgb, bg_depth), depth_scales, trans, intrinsics)"
   ]
  },
  {
   "cell_type": "code",
   "execution_count": null,
   "metadata": {},
   "outputs": [],
   "source": [
    "pcd_f = PointCloudManip.distance_filter(pcd_person, pcd_bg, 0.06)\n"
   ]
  },
  {
   "cell_type": "code",
   "execution_count": null,
   "metadata": {},
   "outputs": [],
   "source": [
    "o3d.visualization.draw_geometries(\n",
    "    [pcd_f, coord], zoom=zoom, front=front, lookat=pcd_f.get_center(), up=up\n",
    ")"
   ]
  },
  {
   "cell_type": "markdown",
   "metadata": {},
   "source": [
    "### Segment out plane"
   ]
  },
  {
   "cell_type": "code",
   "execution_count": null,
   "metadata": {},
   "outputs": [],
   "source": [
    "pcd_s = PointCloudManip.segment_out_plane(pcd_person, 0.05)"
   ]
  },
  {
   "cell_type": "code",
   "execution_count": null,
   "metadata": {},
   "outputs": [],
   "source": [
    "o3d.visualization.draw_geometries(\n",
    "    [pcd_s, coord], zoom=zoom, front=front, lookat=pcd_s.get_center(), up=up\n",
    ")"
   ]
  },
  {
   "cell_type": "markdown",
   "metadata": {},
   "source": [
    "### Simple Crop"
   ]
  },
  {
   "cell_type": "code",
   "execution_count": null,
   "metadata": {},
   "outputs": [],
   "source": [
    "print(f\"Min bounds: {pcd_s.get_min_bound()}\")\n",
    "print(f\"Max bounds: {pcd_s.get_max_bound()}\")"
   ]
  },
  {
   "cell_type": "code",
   "execution_count": null,
   "metadata": {},
   "outputs": [],
   "source": [
    "min_bounds = (-1.0, -2.0, 0.0)\n",
    "max_bounds = (1.0, 2.0, 2.0)\n",
    "pcd_c = PointCloudManip.crop_pcd(pcd_s, min_bounds, max_bounds)"
   ]
  },
  {
   "cell_type": "code",
   "execution_count": null,
   "metadata": {},
   "outputs": [],
   "source": [
    "o3d.visualization.draw_geometries(\n",
    "    [pcd_c, coord], zoom=zoom, front=front, lookat=pcd_c.get_center(), up=up\n",
    ")"
   ]
  },
  {
   "cell_type": "markdown",
   "metadata": {},
   "source": [
    "# Create Mesh"
   ]
  },
  {
   "cell_type": "code",
   "execution_count": null,
   "metadata": {},
   "outputs": [],
   "source": [
    "mesh = utils.create_mesh_tsdf(\n",
    "    dict(zip(person_rgb.keys(), out_rgb)),\n",
    "    dict(zip(person_depth.keys(), out_dep_filt)),\n",
    "    depth_scales,\n",
    "    trans,\n",
    "    intrinsics\n",
    ")"
   ]
  },
  {
   "cell_type": "code",
   "execution_count": null,
   "metadata": {},
   "outputs": [],
   "source": [
    "o3d.visualization.draw_geometries(\n",
    "    [mesh, coord], zoom=zoom, front=front, lookat=mesh.get_center(), up=up\n",
    ")"
   ]
  },
  {
   "cell_type": "markdown",
   "metadata": {},
   "source": [
    "## RGBD from Point cloud"
   ]
  },
  {
   "cell_type": "code",
   "execution_count": null,
   "metadata": {},
   "outputs": [],
   "source": [
    "rot_pcd = PointCloudManip.rotate_pcd(pcd, (-np.pi / 2, 0, 0))"
   ]
  },
  {
   "cell_type": "code",
   "execution_count": null,
   "metadata": {},
   "outputs": [],
   "source": [
    "o3d.visualization.draw_geometries([rot_pcd, coord])"
   ]
  },
  {
   "cell_type": "code",
   "execution_count": null,
   "metadata": {},
   "outputs": [],
   "source": [
    "rgb, dep = PointCloudManip.pcd_to_rgbd(\n",
    "    rot_pcd, intrinsics[\"215122254778\"], depth_scales[\"215122254778\"]\n",
    ")"
   ]
  },
  {
   "cell_type": "code",
   "execution_count": null,
   "metadata": {},
   "outputs": [],
   "source": [
    "utils.plot_rgbd([rgb], [dep])"
   ]
  },
  {
   "cell_type": "code",
   "execution_count": null,
   "metadata": {},
   "outputs": [],
   "source": []
  }
 ],
 "metadata": {
  "kernelspec": {
   "display_name": "Python 3.8.13 ('cv3d-env')",
   "language": "python",
   "name": "python3"
  },
  "language_info": {
   "codemirror_mode": {
    "name": "ipython",
    "version": 3
   },
   "file_extension": ".py",
   "mimetype": "text/x-python",
   "name": "python",
   "nbconvert_exporter": "python",
   "pygments_lexer": "ipython3",
   "version": "3.8.13"
  },
  "orig_nbformat": 4,
  "vscode": {
   "interpreter": {
    "hash": "a2f71e6011faa0109c6544a926ac70c80d3ea1a0e18aed42a92f791a760d489a"
   }
  }
 },
 "nbformat": 4,
 "nbformat_minor": 2
}
