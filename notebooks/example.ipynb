{
 "cells": [
  {
   "cell_type": "code",
   "execution_count": null,
   "metadata": {},
   "outputs": [],
   "source": [
    "import sys\n",
    "sys.path.insert(0, \"../\")\n",
    "\n",
    "from reconstruction.datahandler.datahandler import DataHandler"
   ]
  },
  {
   "cell_type": "code",
   "execution_count": null,
   "metadata": {},
   "outputs": [],
   "source": [
    "root = \"../data/data_10_19\"\n",
    "img_path = \"fast_collection_2022_10_19\"\n",
    "calib_path = \"calibration_2022_10_19_11_17_26_1666171046886500093\"\n",
    "\n",
    "cams_to_keep = [\"215122256544\"] # Can be None or ['215122254778', '151422251878', '215122256544', '213522251068']"
   ]
  },
  {
   "cell_type": "code",
   "execution_count": null,
   "metadata": {},
   "outputs": [],
   "source": [
    "dh_ = DataHandler(root, img_path, calib_path, cams_to_keep)"
   ]
  },
  {
   "cell_type": "code",
   "execution_count": null,
   "metadata": {},
   "outputs": [],
   "source": [
    "person_rgb, person_depth = dh_.load_images(\"mans\")\n",
    "bg_rgb, bg_depth = dh_.load_images(\"background\")\n",
    "\n",
    "trans = dh_.load_transformations()\n",
    "depth_scales = dh_.load_depth_scales()\n",
    "intrinsics = dh_.load_intrinsics()"
   ]
  },
  {
   "cell_type": "code",
   "execution_count": null,
   "metadata": {},
   "outputs": [],
   "source": []
  }
 ],
 "metadata": {
  "kernelspec": {
   "display_name": "Python 3.8.13 ('cv3d-env')",
   "language": "python",
   "name": "python3"
  },
  "language_info": {
   "codemirror_mode": {
    "name": "ipython",
    "version": 3
   },
   "file_extension": ".py",
   "mimetype": "text/x-python",
   "name": "python",
   "nbconvert_exporter": "python",
   "pygments_lexer": "ipython3",
   "version": "3.8.13"
  },
  "orig_nbformat": 4,
  "vscode": {
   "interpreter": {
    "hash": "a2f71e6011faa0109c6544a926ac70c80d3ea1a0e18aed42a92f791a760d489a"
   }
  }
 },
 "nbformat": 4,
 "nbformat_minor": 2
}
